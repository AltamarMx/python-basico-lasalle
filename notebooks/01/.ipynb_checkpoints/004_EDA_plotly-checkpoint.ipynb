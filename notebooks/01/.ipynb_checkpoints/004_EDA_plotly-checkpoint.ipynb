{
 "cells": [
  {
   "cell_type": "code",
   "execution_count": null,
   "id": "a34649e9-82ba-4fdf-a551-da6a25cdc3e5",
   "metadata": {},
   "outputs": [],
   "source": [
    "import pandas as pd\n",
    "import plotly.express as px"
   ]
  },
  {
   "cell_type": "code",
   "execution_count": null,
   "id": "31352b26-1f9b-4e74-a76d-144c1b95f8ff",
   "metadata": {},
   "outputs": [],
   "source": [
    "f = \"../../data/Irradiancia.parquet\"\n",
    "I = pd.read_parquet(f)\n",
    "#Arreglo los datos\n",
    "I.sort_index(inplace=True)\n",
    "I = I[I.index.year>2022]\n",
    "I = I.resample(\"10Min\").mean()\n",
    "I.reset_index(inplace=True)\n",
    "I.columns"
   ]
  },
  {
   "cell_type": "code",
   "execution_count": null,
   "id": "c5107d69-0b15-40a3-ac9e-f0fc2b6ccd00",
   "metadata": {},
   "outputs": [],
   "source": [
    "px.line(\n",
    "    data_frame=I,\n",
    "    x = \"TIMESTAMP\",\n",
    "    y = \"I_glo_Avg\"\n",
    ")"
   ]
  },
  {
   "cell_type": "code",
   "execution_count": null,
   "id": "a5ad0079-9fad-41ca-949f-52f5f7960bb8",
   "metadata": {},
   "outputs": [],
   "source": []
  }
 ],
 "metadata": {
  "kernelspec": {
   "display_name": "Python 3 (ipykernel)",
   "language": "python",
   "name": "python3"
  },
  "language_info": {
   "codemirror_mode": {
    "name": "ipython",
    "version": 3
   },
   "file_extension": ".py",
   "mimetype": "text/x-python",
   "name": "python",
   "nbconvert_exporter": "python",
   "pygments_lexer": "ipython3",
   "version": "3.12.10"
  }
 },
 "nbformat": 4,
 "nbformat_minor": 5
}
